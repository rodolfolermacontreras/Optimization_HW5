{
 "cells": [
  {
   "cell_type": "markdown",
   "metadata": {},
   "source": [
    "# Offline Section: Quiz 4 - Problem 2"
   ]
  },
  {
   "cell_type": "markdown",
   "metadata": {},
   "source": [
    "## Linear Programming Model Formulation"
   ]
  },
  {
   "cell_type": "markdown",
   "metadata": {},
   "source": [
    "This problem corresponds to the type of integer programming model known as the Set Covering problem.\n",
    "\n",
    "In a Set Covering problem, the goal is to find a subset of the columns (in this case, routes) of a given binary matrix (in this case, the presence or absence of a distribution center in a route) that covers all the rows (in this case, meeting the demands of all distribution centers) at a minimum cost (in this case, the total length of the selected routes).\n",
    "\n",
    "In the context of this problem, each distribution center must be covered at least once by the selected routes, and the goal is to minimize the total length of the routes, which constitutes the cost. This makes it a Set Covering problem."
   ]
  },
  {
   "cell_type": "code",
   "execution_count": null,
   "metadata": {},
   "outputs": [],
   "source": []
  },
  {
   "cell_type": "markdown",
   "metadata": {},
   "source": [
    "Firstly, let's understand the comparison you made:\n",
    "\n",
    "The previous problem you shared about assigning landing slots to airlines is indeed a type of combinatorial optimization problem, and more specifically, a kind of Knapsack Problem, which is a common packing problem. The goal was to maximize the total bid price while ensuring each slot is assigned at most once and each airline is awarded at most one bid.\n",
    "\n",
    "The constraints in the airline problem:\n",
    "\n",
    "- Each slot can be assigned to at most one bid.\n",
    "- Each airline can win at most one bid.\n",
    "\n",
    "These constraints are comparable to the Ohadi Foods routing problem, which also needs to ensure:\n",
    "\n",
    "- Each distribution center is included in at least one route.\n",
    "- The total length of the routes used is minimized.\n",
    "\n",
    "Despite the similarities, the specific requirements and constraints for each problem will influence the formulation and solution approach.\n",
    "\n",
    "Now, let's see how we can formulate the Ohadi Foods routing problem in the same way we did for the airline problem."
   ]
  },
  {
   "cell_type": "code",
   "execution_count": null,
   "metadata": {},
   "outputs": [],
   "source": []
  },
  {
   "cell_type": "markdown",
   "metadata": {},
   "source": [
    "The problem we are dealing with here involves a logistics company that wants to determine the optimal routes for delivering products from a central depot to various distribution centers.\n",
    "\n",
    "There are certain constraints in this scenario:\n",
    "- Each truck has a maximum carrying capacity of 30,000lbs.\n",
    "- Each distribution center's demand must be satisfied by a single truck.\n",
    "- The demand for each distribution center cannot be split among multiple trucks.\n",
    "- The goal is to minimize the total distance traveled, since the costs are directly dependent on this.\n",
    "\n",
    "Based on historical data, there are 43 possible truck routes that can be used to deliver the demand. Each route has its length and the distribution centers it covers.\n",
    "\n",
    "Now, let's consider your example of the logical rule, and apply it to our problem. In our case, we have a similar situation with binary variables, but the logical constraints are slightly different. Our binary variables are whether or not a route is taken (1 if taken, 0 if not). The constraint we need to satisfy is that each distribution center's demand is met by at least one route."
   ]
  },
  {
   "cell_type": "markdown",
   "metadata": {},
   "source": [
    "***Let us denote:***\n",
    "\n",
    "$R$ as the set of possible routes. \n",
    "\n",
    "$C$ as the set of distribution centers. \n",
    "\n",
    "$d_c$ as the demand for each center $c \\in C$.\n",
    "\n",
    "$LR_{rc}$ as an indicator variable for each route $r \\in R$ and each center $c \\in C$. It equals 1 if route $r$ includes center $c$, and 0 otherwise.\n",
    "\n",
    "$l_r$ as the length of each route $r \\in R$.\n",
    "\n",
    "$x_r$ as a binary decision variable which equals 1 if route $r$ is selected, and 0 otherwise.\n",
    "\n",
    "**Objective Function:**\n",
    "\n",
    "We want to minimize the total length of all routes:\n",
    "\n",
    "$$\\min \\sum_{r \\in R} l_r \\cdot x_r$$\n",
    "\n",
    "**Constraints:**\n",
    "\n",
    "1. `Covering Constraint:` For each distribution center, the sum of routes that include the center must be greater or equal to 1. This ensures that every center's demand is met:\n",
    "\n",
    "$$\\sum_{r \\in R} LR_{rc} \\cdot x_r \\geq 1, \\quad \\forall c \\in C$$\n",
    "\n",
    "2. `Binary Constraint:` The decision variables $x_r$ are binary:\n",
    "\n",
    "$$x_r \\in \\{0, 1\\}, \\quad \\forall r \\in R$$\n",
    "\n",
    "Here we are looking for a selection of routes that covers all distribution centers with a minimum total route length.\n"
   ]
  },
  {
   "cell_type": "markdown",
   "metadata": {},
   "source": [
    "Let us denote:\n",
    "\n",
    "- $R$ as the set of all routes.\n",
    "- $C$ as the set of all distribution centers.\n",
    "- $LR_{rc}$ as the binary parameter that is 1 if route $r \\in R$ includes center $c \\in C$, and 0 otherwise.\n",
    "- $d_c$ as the demand at each center $c \\in C$.\n",
    "- $l_r$ as the length of each route $r \\in R$.\n",
    "- $x_r$ as the binary decision variable which equals 1 if route $r$ is selected, 0 otherwise, for $r \\in R$.\n",
    "\n",
    "**Objective Function:**\n",
    "\n",
    "We want to minimize the total length of all routes:\n",
    "\n",
    "$$\\min \\sum_{r \\in R} l_r \\cdot x_r$$\n",
    "\n",
    "**Constraints:**\n",
    "\n",
    "1. `Coverage Constraint:` For each distribution center, the sum of routes that include the center must be greater or equal to 1. This ensures that every center's demand is met:\n",
    "\n",
    "$$\\sum_{r \\in R} LR_{rc} \\cdot x_r \\geq 1, \\quad \\forall c \\in C$$\n",
    "\n",
    "2. `Binary Constraint:` The decision variables $x_r$ are binary:\n",
    "\n",
    "$$x_r \\in \\{0, 1\\}, \\quad \\forall r \\in R$$\n",
    "\n",
    "In this problem, we aim to minimize the total length of the routes that meet all the demand at each distribution center while respecting the constraints.\n"
   ]
  },
  {
   "cell_type": "markdown",
   "metadata": {},
   "source": [
    "Let's denote:\n",
    "\n",
    "- $R$ as the set of all possible routes.\n",
    "- $D$ as the set of all distribution centers.\n",
    "- $L_{r}$ as the length of route $r$, for $r \\in R$.\n",
    "- $x_{r}$ as the binary decision variable which equals 1 if route $r$ is selected, 0 otherwise, for $r \\in R$.\n",
    "- $I_{rd}$ equals 1 if distribution center $d$ is included in route $r$, and 0 otherwise, for $r \\in R$, $d \\in D$.\n",
    "\n",
    "**Objective Function:**\n",
    "\n",
    "Minimize the total length of the selected routes:\n",
    "\n",
    "$$\\min \\sum_{r \\in R} L_{r} \\cdot x_{r}$$\n",
    "\n",
    "**Constraints:**\n",
    "\n",
    "1. `Covering Constraint:` Each distribution center must be included in at least one of the selected routes.\n",
    "\n",
    "$$\\sum_{r \\in R: I_{rd} = 1} x_{r} \\ge 1 \\quad \\forall d \\in D$$\n",
    "\n",
    "This formulation aims to minimize the total length of the routes selected to serve all the distribution centers. Each distribution center must be covered by at least one route.\n"
   ]
  },
  {
   "cell_type": "markdown",
   "metadata": {},
   "source": [
    "## Python Implementation"
   ]
  },
  {
   "cell_type": "code",
   "execution_count": 2,
   "metadata": {},
   "outputs": [],
   "source": [
    "import csv\n",
    "\n",
    "# open and read the csv file\n",
    "f = open(\"quiz4_routing.csv\")\n",
    "csvfile = csv.DictReader(f, delimiter=',')\n",
    "headers = csvfile.fieldnames\n",
    "\n",
    "table = []\n",
    "for row in csvfile:\n",
    "    table.append(row)\n",
    "    \n",
    "f.close()\n",
    "\n",
    "# define the set of routes\n",
    "Routes = headers[:]\n",
    "Routes.remove('Distribution Center')\n",
    "Routes.remove('Demand (lbs)')\n",
    "\n",
    "# read the parameters\n",
    "Demand = {}        # Demand[j] is the demand for distribution center j\n",
    "IsInRoute = {}     # IsInRoute[i,j] = 1 if route i includes distribution center j\n",
    "Length = {}        # Length[i] is the length of route i\n",
    "for row in table:\n",
    "    dc = row['Distribution Center']\n",
    "    if dc != 'n/a':\n",
    "        Demand[dc] = float(row['Demand (lbs)'])\n",
    "        for r in Routes:\n",
    "            if row[r] != '':\n",
    "                IsInRoute[(r,dc)] = int(row[r])\n",
    "    else:\n",
    "        for r in Routes:\n",
    "            Length[r] = float(row[r])\n",
    "DCs = Demand.keys()"
   ]
  },
  {
   "cell_type": "code",
   "execution_count": 3,
   "metadata": {},
   "outputs": [],
   "source": [
    "from docplex.mp.model import Model\n",
    "\n",
    "# create a model\n",
    "mdl = Model()"
   ]
  },
  {
   "cell_type": "code",
   "execution_count": 4,
   "metadata": {},
   "outputs": [],
   "source": [
    "# variables\n",
    "x = mdl.binary_var_dict(Routes, name='Route')"
   ]
  },
  {
   "cell_type": "code",
   "execution_count": 5,
   "metadata": {},
   "outputs": [],
   "source": [
    "# objective\n",
    "TotalLength = mdl.sum(Length[i]*x[i] for i in Routes)\n",
    "mdl.minimize(TotalLength)"
   ]
  },
  {
   "cell_type": "code",
   "execution_count": 6,
   "metadata": {},
   "outputs": [],
   "source": [
    "# constraints: covering\n",
    "for j in DCs:\n",
    "    mdl.add_constraint( mdl.sum(IsInRoute.get((i,j), 0)*x[i] for i in Routes) >= 1 )"
   ]
  },
  {
   "cell_type": "code",
   "execution_count": 7,
   "metadata": {},
   "outputs": [
    {
     "data": {
      "text/plain": [
       "DecisionKPI(name=Number of routes used,expr=Route_1+Route_2+Route_3+Route_4+Route_5+Route_6+Route_7+Route_8+..)"
      ]
     },
     "execution_count": 7,
     "metadata": {},
     "output_type": "execute_result"
    }
   ],
   "source": [
    "# KPIs\n",
    "mdl.add_kpi(TotalLength, 'Total length of routes')\n",
    "mdl.add_kpi(mdl.sum(x[i] for i in Routes), 'Number of routes used')"
   ]
  },
  {
   "cell_type": "code",
   "execution_count": 8,
   "metadata": {},
   "outputs": [
    {
     "data": {
      "text/plain": [
       "docplex.mp.SolveDetails(time=0.094,status='integer optimal solution')"
      ]
     },
     "execution_count": 8,
     "metadata": {},
     "output_type": "execute_result"
    }
   ],
   "source": [
    "# solve\n",
    "mdl.solve()\n",
    "mdl.get_solve_details()"
   ]
  },
  {
   "cell_type": "code",
   "execution_count": 9,
   "metadata": {},
   "outputs": [
    {
     "name": "stdout",
     "output_type": "stream",
     "text": [
      "\n",
      "The selected routes are:\n",
      "Route 5\n",
      "Route 6\n",
      "Route 9\n",
      "Route 17\n",
      "Route 24\n",
      "Route 26\n",
      "Route 27\n",
      "\n",
      "The total length of the selected routes is: 7922.0\n"
     ]
    }
   ],
   "source": [
    "# print the selected routes\n",
    "print(\"\\nThe selected routes are:\")\n",
    "for i in Routes:\n",
    "    if x[i].solution_value > 0.5:\n",
    "        print(f\"Route {i}\")\n",
    "\n",
    "# print total length\n",
    "print(\"\\nThe total length of the selected routes is:\", mdl.objective_value)"
   ]
  },
  {
   "cell_type": "code",
   "execution_count": 10,
   "metadata": {},
   "outputs": [
    {
     "name": "stdout",
     "output_type": "stream",
     "text": [
      "* model docplex_model1 solved with objective = 7922.000\n",
      "*  KPI: Total length of routes = 7922.000\n",
      "*  KPI: Number of routes used  = 7.000\n",
      "The average length of the routes used is: 1131.7142857142858\n"
     ]
    }
   ],
   "source": [
    "# print KPIs\n",
    "mdl.report()\n",
    "\n",
    "# calculate and print the average length of the routes used\n",
    "num_routes = mdl.kpi_value_by_name('Number of routes used')\n",
    "if num_routes > 0:\n",
    "    print(\"The average length of the routes used is:\", mdl.objective_value / num_routes)"
   ]
  },
  {
   "cell_type": "code",
   "execution_count": 11,
   "metadata": {},
   "outputs": [
    {
     "name": "stdout",
     "output_type": "stream",
     "text": [
      "\n",
      "The selected routes are:\n",
      "Route 5\n",
      "Route 6\n",
      "Route 9\n",
      "Route 17\n",
      "Route 24\n",
      "Route 26\n",
      "Route 27\n"
     ]
    }
   ],
   "source": [
    "from docplex.mp.model import Model\n",
    "\n",
    "# create a model\n",
    "mdl = Model('OhadiFoods')\n",
    "\n",
    "# variables\n",
    "x = mdl.binary_var_dict(Routes, name='Route')\n",
    "\n",
    "# objective\n",
    "TotalLength = mdl.sum(Length[r]*x[r] for r in Routes)\n",
    "mdl.minimize(TotalLength)\n",
    "\n",
    "# constraints: covering\n",
    "for d in DCs:\n",
    "    mdl.add_constraint( mdl.sum(IsInRoute.get((r,d), 0)*x[r] for r in Routes) >= 1 )\n",
    "\n",
    "# solve\n",
    "mdl.solve()\n",
    "\n",
    "# print the selected routes\n",
    "print(\"\\nThe selected routes are:\")\n",
    "for r in Routes:\n",
    "    if x[r].solution_value > 0.5:\n",
    "        print(f\"Route {r}\")\n"
   ]
  }
 ],
 "metadata": {
  "kernelspec": {
   "display_name": "Python 3 (ipykernel)",
   "language": "python",
   "name": "python3"
  },
  "language_info": {
   "codemirror_mode": {
    "name": "ipython",
    "version": 3
   },
   "file_extension": ".py",
   "mimetype": "text/x-python",
   "name": "python",
   "nbconvert_exporter": "python",
   "pygments_lexer": "ipython3",
   "version": "3.9.16"
  }
 },
 "nbformat": 4,
 "nbformat_minor": 2
}
