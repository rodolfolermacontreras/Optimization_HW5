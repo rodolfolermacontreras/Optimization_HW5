{
 "cells": [
  {
   "cell_type": "markdown",
   "metadata": {},
   "source": [
    "# Offline Section: Quiz 4 - Problem 1"
   ]
  },
  {
   "cell_type": "markdown",
   "metadata": {},
   "source": [
    "## Linear Programming Model Formulation"
   ]
  },
  {
   "cell_type": "markdown",
   "metadata": {},
   "source": [
    "In the investment decision-making problem we addressed, a group of investors had to select a portfolio of projects within defined constraints to maximize the total expected return. The constraints were multifaceted, encapsulating sector exposure, risk balance, project duration, and a fixed budget of $100 million.\n",
    "\n",
    "This problem exhibits characteristics similar to a `Knapsack problem` in integer programming, where a set of items (in this case, projects) each have a weight and a value. The task is to select a subset of items that fit within a given capacity (the total investment capital), with the aim of maximizing the total value (the total expected return). Each project is represented by a binary variable that indicates whether the project is selected or not. The objective function is defined to maximize the total expected return, and the constraints are formulated as linear inequalities involving the binary variables.\n",
    "\n",
    "Solving this integer programming problem enabled the investors to systematically evaluate all possible combinations of projects. The result was an optimal portfolio that maximizes the return on investment while satisfying all given constraints, demonstrating the effectiveness of integer programming in complex decision-making scenarios."
   ]
  },
  {
   "cell_type": "markdown",
   "metadata": {},
   "source": [
    "***Let us denote:***\n",
    "\n",
    "$I$ as the set of all projects (from *Project 1* to *Project 10* in this case).\n",
    "\n",
    "$C_{i}$ as the capital required for project $i$, for $i \\in I$.\n",
    "\n",
    "$S_{i}$ as the sector of project $i$, for $i \\in I$.\n",
    "\n",
    "$R_{i}$ as the risk level associated with project $i$, for $i \\in I$.\n",
    "\n",
    "$D_{i}$ as the duration of project $i$, for $i \\in I$.\n",
    "\n",
    "$E_{i}$ as the expected return of project $i$, for $i \\in I$.\n",
    "\n",
    "$x_{i}$ as the binary decision variable which equals 1 if project $i$ is selected, 0 otherwise, for $i \\in I$.\n",
    "\n",
    "**Objective Function:**\n",
    "\n",
    "Maximize the total expected return:\n",
    "\n",
    "$$\\max \\sum_{i \\in I} E_{i} \\cdot x_{i}$$\n",
    "\n",
    "**Constraints:**\n",
    "\n",
    "1. `Budget Constraint:` The total investment does not exceed the budget.\n",
    "\n",
    "$$\\sum_{i \\in I} C_{i} \\cdot x_{i} \\le Budget (100M) $$\n",
    "\n",
    "2. `IT Sector Constraint:` At most two projects in IT can be selected:\n",
    "\n",
    "$$\\sum_{i \\in I: S_{i} = IT} x_{i} \\le 2$$\n",
    "\n",
    "3. `Healthcare Sector Constraint:` At least one Healthcare project must be selected:\n",
    "\n",
    "$$\\sum_{i \\in I: S_{i} = Healthcare} x_{i} \\ge 1$$\n",
    "\n",
    "4. `Risk Level Constraint:` The number of projects with Low risk must be at least the number of projects with High risk:\n",
    "\n",
    "$$\\sum_{i \\in I: R_{i} = Low} x_{i} \\ge \\sum_{i \\in I: R_{i} = High} x_{i}$$\n",
    "\n",
    "5. `Duration Constraint:` At least three projects with a duration of 4 years or shorter must be selected:\n",
    "\n",
    "$$\\sum_{i \\in I: D_{i} \\le 4} x_{i} \\ge 3$$\n",
    "\n",
    "In this problem, we aim to maximize the expected return of the selected projects while respecting the constraints."
   ]
  },
  {
   "cell_type": "markdown",
   "metadata": {},
   "source": [
    "other way:"
   ]
  },
  {
   "cell_type": "markdown",
   "metadata": {},
   "source": [
    "Let us denote:\n",
    "\n",
    "$I$ as the set of all projects (from Project 1 to Project 10 in this case).\n",
    "\n",
    "$C_{i}$ as the capital required for project $i$, for $i \\in I$.\n",
    "\n",
    "$S_{IT}$ as the subset of projects in the IT sector.\n",
    "\n",
    "$S_{HC}$ as the subset of projects in the Healthcare sector.\n",
    "\n",
    "$R_{L}$ as the subset of projects with Low risk level.\n",
    "\n",
    "$R_{H}$ as the subset of projects with High risk level.\n",
    "\n",
    "$D_{4}$ as the subset of projects with duration 4 years or shorter.\n",
    "\n",
    "$E_{i}$ as the expected return of project $i$, for $i \\in I$.\n",
    "\n",
    "$x_{i}$ as the binary decision variable which equals 1 if project $i$ is selected, 0 otherwise, for $i \\in I$.\n",
    "\n",
    "**Objective Function:**\n",
    "\n",
    "Maximize the total expected return:\n",
    "\n",
    "$$\\max \\sum_{i \\in I} E_{i} \\cdot x_{i}$$\n",
    "\n",
    "**Constraints:**\n",
    "\n",
    "1. `Budget Constraint:` The total investment does not exceed the budget.\n",
    "\n",
    "$$\\sum_{i \\in I} C_{i} \\cdot x_{i} \\le \\text{Budget} $$\n",
    "\n",
    "2. `IT Sector Constraint:` At most two projects in IT can be selected:\n",
    "\n",
    "$$\\sum_{i \\in S_{IT}} x_{i} \\le 2$$ \n",
    "$$S_{IT} = \\{i \\in I | S_{i} = IT\\}$$\n",
    "\n",
    "3. `Healthcare Sector Constraint:` At least one Healthcare project must be selected:\n",
    "\n",
    "$$\\sum_{i \\in S_{HC}} x_{i} \\ge 1$$\n",
    "$$S_{HC} = \\{i \\in I | S_{i} = Healthcare\\}$$\n",
    "\n",
    "4. `Risk Level Constraint:` The number of projects with Low risk must be at least the number of projects with High risk:\n",
    "\n",
    "$$\\sum_{i \\in R_{L}} x_{i} \\ge \\sum_{i \\in R_{H}} x_{i}$$\n",
    "$$R_{L} = \\{i \\in I | R_{i} = Low\\}$$\n",
    "$$R_{H} = \\{i \\in I | R_{i} = High\\}$$\n",
    "\n",
    "5. `Duration Constraint:` At least three projects with a duration of 4 years or shorter must be selected:\n",
    "\n",
    "$$\\sum_{i \\in D_{4}} x_{i} \\ge 3$$\n",
    "$$D_{4} = \\{i \\in I | D_{i} \\le 4\\}$$\n",
    "\n",
    "In this problem, we aim to maximize the expected return of the selected projects while respecting the constraints.\n"
   ]
  },
  {
   "cell_type": "markdown",
   "metadata": {},
   "source": [
    "## Python Implementation"
   ]
  },
  {
   "cell_type": "code",
   "execution_count": 1,
   "metadata": {},
   "outputs": [],
   "source": [
    "# Read in the csv file as a dataframe using pandas\n",
    "import pandas as pd\n",
    "df = pd.read_csv(\"quiz4_invest.csv\", index_col='Project')\n",
    "\n",
    "# read the parameters\n",
    "Capital = {}\n",
    "Sector = {}\n",
    "Risk = {}\n",
    "Duration = {}\n",
    "ExpectedReturn = {}\n",
    "\n",
    "for i in df.index:  # iterate over the row index\n",
    "    Capital[i] = float(df['Capital ($M)'][i])\n",
    "    Sector[i] = df['Sector'][i]\n",
    "    Risk[i] = df['Risk'][i]\n",
    "    Duration[i] = float(df['Duration'][i])\n",
    "    ExpectedReturn[i] = float(df['Expected return ($M)'][i])\n",
    "    \n",
    "Projects = Capital.keys()\n",
    "Budget = 100"
   ]
  },
  {
   "cell_type": "code",
   "execution_count": 7,
   "metadata": {},
   "outputs": [
    {
     "data": {
      "text/plain": [
       "dict_keys(['Project 1', 'Project 2', 'Project 3', 'Project 4', 'Project 5', 'Project 6', 'Project 7', 'Project 8', 'Project 9', 'Project 10'])"
      ]
     },
     "execution_count": 7,
     "metadata": {},
     "output_type": "execute_result"
    }
   ],
   "source": [
    "Projects"
   ]
  },
  {
   "cell_type": "code",
   "execution_count": 8,
   "metadata": {},
   "outputs": [
    {
     "data": {
      "text/plain": [
       "100"
      ]
     },
     "execution_count": 8,
     "metadata": {},
     "output_type": "execute_result"
    }
   ],
   "source": [
    "Budget"
   ]
  },
  {
   "cell_type": "code",
   "execution_count": 2,
   "metadata": {},
   "outputs": [
    {
     "data": {
      "text/plain": [
       "{'Project 1': 20.0,\n",
       " 'Project 2': 15.0,\n",
       " 'Project 3': 23.0,\n",
       " 'Project 4': 10.0,\n",
       " 'Project 5': 20.0,\n",
       " 'Project 6': 12.0,\n",
       " 'Project 7': 20.0,\n",
       " 'Project 8': 25.0,\n",
       " 'Project 9': 14.0,\n",
       " 'Project 10': 10.0}"
      ]
     },
     "execution_count": 2,
     "metadata": {},
     "output_type": "execute_result"
    }
   ],
   "source": [
    "Capital"
   ]
  },
  {
   "cell_type": "code",
   "execution_count": 3,
   "metadata": {},
   "outputs": [
    {
     "data": {
      "text/plain": [
       "{'Project 1': 'IT',\n",
       " 'Project 2': 'Healthcare',\n",
       " 'Project 3': 'Healthcare',\n",
       " 'Project 4': 'Industrials',\n",
       " 'Project 5': 'Engineering',\n",
       " 'Project 6': 'IT',\n",
       " 'Project 7': 'Financials',\n",
       " 'Project 8': 'Energy',\n",
       " 'Project 9': 'Energy',\n",
       " 'Project 10': 'IT'}"
      ]
     },
     "execution_count": 3,
     "metadata": {},
     "output_type": "execute_result"
    }
   ],
   "source": [
    "Sector"
   ]
  },
  {
   "cell_type": "code",
   "execution_count": 4,
   "metadata": {},
   "outputs": [
    {
     "data": {
      "text/plain": [
       "{'Project 1': 'Low',\n",
       " 'Project 2': 'Medium',\n",
       " 'Project 3': 'High',\n",
       " 'Project 4': 'Medium',\n",
       " 'Project 5': 'Medium',\n",
       " 'Project 6': 'High',\n",
       " 'Project 7': 'High',\n",
       " 'Project 8': 'Low',\n",
       " 'Project 9': 'Medium',\n",
       " 'Project 10': 'Low'}"
      ]
     },
     "execution_count": 4,
     "metadata": {},
     "output_type": "execute_result"
    }
   ],
   "source": [
    "Risk"
   ]
  },
  {
   "cell_type": "code",
   "execution_count": 5,
   "metadata": {},
   "outputs": [
    {
     "data": {
      "text/plain": [
       "{'Project 1': 2.0,\n",
       " 'Project 2': 4.0,\n",
       " 'Project 3': 3.0,\n",
       " 'Project 4': 3.0,\n",
       " 'Project 5': 6.0,\n",
       " 'Project 6': 4.0,\n",
       " 'Project 7': 5.0,\n",
       " 'Project 8': 7.0,\n",
       " 'Project 9': 4.0,\n",
       " 'Project 10': 1.0}"
      ]
     },
     "execution_count": 5,
     "metadata": {},
     "output_type": "execute_result"
    }
   ],
   "source": [
    "Duration"
   ]
  },
  {
   "cell_type": "code",
   "execution_count": 6,
   "metadata": {},
   "outputs": [
    {
     "data": {
      "text/plain": [
       "{'Project 1': 34.0,\n",
       " 'Project 2': 36.0,\n",
       " 'Project 3': 50.0,\n",
       " 'Project 4': 16.0,\n",
       " 'Project 5': 54.0,\n",
       " 'Project 6': 32.0,\n",
       " 'Project 7': 60.0,\n",
       " 'Project 8': 48.0,\n",
       " 'Project 9': 38.0,\n",
       " 'Project 10': 12.0}"
      ]
     },
     "execution_count": 6,
     "metadata": {},
     "output_type": "execute_result"
    }
   ],
   "source": [
    "ExpectedReturn"
   ]
  },
  {
   "cell_type": "code",
   "execution_count": 9,
   "metadata": {},
   "outputs": [],
   "source": [
    "from docplex.mp.model import Model\n",
    "mdl = Model()"
   ]
  },
  {
   "cell_type": "code",
   "execution_count": 10,
   "metadata": {},
   "outputs": [],
   "source": [
    "# Variables\n",
    "select = mdl.binary_var_dict(ExpectedReturn, name='project')"
   ]
  },
  {
   "cell_type": "code",
   "execution_count": 11,
   "metadata": {},
   "outputs": [],
   "source": [
    "# Objective\n",
    "mdl.maximize(mdl.sum(ExpectedReturn[i]*select[i] for i in select))"
   ]
  },
  {
   "cell_type": "code",
   "execution_count": 12,
   "metadata": {},
   "outputs": [
    {
     "data": {
      "text/plain": [
       "docplex.mp.LinearConstraint[](project_Project 1+project_Project 2+project_Project 3+project_Project 4+project_Project 6+project_Project 9+project_Project 10,GE,3)"
      ]
     },
     "execution_count": 12,
     "metadata": {},
     "output_type": "execute_result"
    }
   ],
   "source": [
    "# Constraints\n",
    "# Budget Constraint\n",
    "mdl.add_constraint(mdl.sum(Capital[i]*select[i] for i in select) <= Budget)\n",
    "# IT Sector Constraint\n",
    "mdl.add_constraint(mdl.sum(select[i] for i in select if Sector[i] == 'IT') <= 2)\n",
    "# Healthcare Sector Constraint\n",
    "mdl.add_constraint(mdl.sum(select[i] for i in select if Sector[i] == 'Healthcare') >= 1)\n",
    "# Risk Level Constraint\n",
    "mdl.add_constraint(mdl.sum(select[i] for i in select if Risk[i] == 'Low') >= mdl.sum(select[i] for i in select if Risk[i] == 'High'))\n",
    "# Duration Constraint\n",
    "mdl.add_constraint(mdl.sum(select[i] for i in select if Duration[i] <= 4) >= 3)"
   ]
  },
  {
   "cell_type": "code",
   "execution_count": 13,
   "metadata": {},
   "outputs": [
    {
     "data": {
      "text/plain": [
       "docplex.mp.SolveDetails(time=39.984,status='integer optimal solution')"
      ]
     },
     "execution_count": 13,
     "metadata": {},
     "output_type": "execute_result"
    }
   ],
   "source": [
    "# solve\n",
    "mdl.solve()\n",
    "mdl.get_solve_details()"
   ]
  },
  {
   "cell_type": "code",
   "execution_count": 14,
   "metadata": {},
   "outputs": [
    {
     "name": "stdout",
     "output_type": "stream",
     "text": [
      "Select project Project 1\n",
      "Select project Project 2\n",
      "Select project Project 4\n",
      "Select project Project 5\n",
      "Select project Project 7\n",
      "Select project Project 9\n"
     ]
    }
   ],
   "source": [
    "# Print the selected projects\n",
    "for i in select:\n",
    "    if select[i].solution_value > 0.5:\n",
    "        print(f'Select project {i}')"
   ]
  },
  {
   "cell_type": "code",
   "execution_count": 15,
   "metadata": {},
   "outputs": [
    {
     "name": "stdout",
     "output_type": "stream",
     "text": [
      "* model docplex_model1 solved with objective = 238.000\n",
      "*  KPI: Total Investment        = 99.000\n",
      "*  KPI: IT Projects             = 1.000\n",
      "*  KPI: Healthcare Projects     = 1.000\n",
      "*  KPI: Low Risk Projects       = 1.000\n",
      "*  KPI: High Risk Projects      = 1.000\n",
      "*  KPI: Short Duration Projects = 4.000\n"
     ]
    }
   ],
   "source": [
    "# Add KPIs\n",
    "mdl.add_kpi(mdl.sum(Capital[i]*select[i] for i in select), 'Total Investment')\n",
    "mdl.add_kpi(mdl.sum(select[i] for i in select if Sector[i] == 'IT'), 'IT Projects')\n",
    "mdl.add_kpi(mdl.sum(select[i] for i in select if Sector[i] == 'Healthcare'), 'Healthcare Projects')\n",
    "mdl.add_kpi(mdl.sum(select[i] for i in select if Risk[i] == 'Low'), 'Low Risk Projects')\n",
    "mdl.add_kpi(mdl.sum(select[i] for i in select if Risk[i] == 'High'), 'High Risk Projects')\n",
    "mdl.add_kpi(mdl.sum(select[i] for i in select if Duration[i] <= 4), 'Short Duration Projects')\n",
    "\n",
    "# Report\n",
    "mdl.report()"
   ]
  },
  {
   "cell_type": "markdown",
   "metadata": {},
   "source": [
    "## Quiz Section"
   ]
  }
 ],
 "metadata": {
  "kernelspec": {
   "display_name": "Python 3 (ipykernel)",
   "language": "python",
   "name": "python3"
  },
  "language_info": {
   "codemirror_mode": {
    "name": "ipython",
    "version": 3
   },
   "file_extension": ".py",
   "mimetype": "text/x-python",
   "name": "python",
   "nbconvert_exporter": "python",
   "pygments_lexer": "ipython3",
   "version": "3.9.16"
  }
 },
 "nbformat": 4,
 "nbformat_minor": 2
}
